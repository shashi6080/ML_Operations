{
 "cells": [
  {
   "cell_type": "markdown",
   "metadata": {},
   "source": [
    "# Timeseries Forecasting"
   ]
  },
  {
   "cell_type": "markdown",
   "metadata": {},
   "source": [
    "## 1. Definition"
   ]
  },
  {
   "cell_type": "markdown",
   "metadata": {},
   "source": [
    "* Predicting value over time.<br>\n",
    "* Time is index variable in forecasting problems.<br>"
   ]
  },
  {
   "cell_type": "markdown",
   "metadata": {},
   "source": [
    "## 2. Applications of Forecasting"
   ]
  },
  {
   "cell_type": "markdown",
   "metadata": {},
   "source": [
    "* Weather forecasting<br>\n",
    "* Stock market forecasting<br>\n",
    "* Sales forecasting<br>\n",
    "* Revenue forecasting<br>\n",
    "* Loss forecasting<br>\n",
    "* ATM cash management<br>\n",
    "* HR resource planning<br>\n",
    "* Shift management in call centre<br>\n",
    "* GDP forecasting<br>\n",
    "* Employment rate forecasting<br>"
   ]
  },
  {
   "cell_type": "markdown",
   "metadata": {},
   "source": [
    "<b>Demand Forecasting Applications :</b>"
   ]
  },
  {
   "cell_type": "markdown",
   "metadata": {},
   "source": [
    "* Inventory management<br>\n",
    "* Supply chain management<br>\n",
    "* HR resource planning<br>\n",
    "* Shift management in call centre<br>\n",
    "* Dynamic pricing<br>"
   ]
  },
  {
   "cell_type": "markdown",
   "metadata": {},
   "source": [
    "## 3. Types od Data"
   ]
  },
  {
   "cell_type": "markdown",
   "metadata": {},
   "source": [
    "* Cross Sectional Data : Object varies and time is fixed.<br>\n",
    "* Time Series Data : Object varies and time is fixed. Time may be hour/week/month/quarter/year<br>\n",
    "* Pooled/Hierarchial/Panel Data : Both object and time varies. It is collection of time series. It is Panel data<br>"
   ]
  },
  {
   "cell_type": "markdown",
   "metadata": {},
   "source": [
    "## 4. Characteristics of Timeseries data"
   ]
  },
  {
   "cell_type": "markdown",
   "metadata": {},
   "source": [
    "* Data should be indexed by time with uniform intervals(hourly/daily/weekly/monthly/yearly)<br>\n",
    "* Data should not have missing values<br>\n",
    "* Current data is function of past data<br>"
   ]
  },
  {
   "cell_type": "markdown",
   "metadata": {},
   "source": [
    "## 5. Components of Time series / Patterns in Time series"
   ]
  },
  {
   "cell_type": "markdown",
   "metadata": {},
   "source": [
    "### Trend"
   ]
  },
  {
   "cell_type": "markdown",
   "metadata": {},
   "source": [
    "Linear Trend : Positive linear trend or negative linear trend. Increase or decrease over time.<br>\n",
    "Non linear Trend : There is no positive or negative trend. Random trend.<br>"
   ]
  },
  {
   "cell_type": "markdown",
   "metadata": {},
   "source": [
    "### Seasonality"
   ]
  },
  {
   "cell_type": "markdown",
   "metadata": {},
   "source": [
    "* Depend on season there is spike in the sales and drop in the sales.<br>\n",
    "* For a fixed time period there is hike in sales and for fixed perios of time there is drop in sales.<br>\n",
    "* This also could be daily/weekly/monthly/quarterly/yearly"
   ]
  },
  {
   "cell_type": "markdown",
   "metadata": {},
   "source": [
    "### Cyclicity"
   ]
  },
  {
   "cell_type": "markdown",
   "metadata": {},
   "source": [
    "* It is usually more than a year.<br>\n",
    "* Ex :- Worldcup match, Olympics etc.<br>\n",
    "* It is similar to Seasonality but seasonality is upto a year. Cyclicity is more than a year.<br>\n",
    "* Cycle with more than a year.<br>"
   ]
  },
  {
   "cell_type": "markdown",
   "metadata": {},
   "source": [
    "### Irregular"
   ]
  },
  {
   "cell_type": "markdown",
   "metadata": {},
   "source": [
    "* We cannot find any pattern."
   ]
  },
  {
   "cell_type": "markdown",
   "metadata": {},
   "source": [
    "--------------------------------------------------------------------------------------------------------------------------------\n",
    "* Every time series have one or more than one components.<br>\n",
    "* Most frequent patterns are Trend, Seasonality or Irregular. Cyclicity is very rare as it needs more data.<br>"
   ]
  },
  {
   "cell_type": "markdown",
   "metadata": {},
   "source": [
    "## 6. Decomposition"
   ]
  },
  {
   "cell_type": "markdown",
   "metadata": {},
   "source": [
    "Trend - Tt, Seasonality - St, Irregular - It<br>\n",
    "Additive : Yt = Tt+St+It<br>\n",
    "Multiplicative : Yt = Tt*St*It<br>"
   ]
  },
  {
   "cell_type": "markdown",
   "metadata": {},
   "source": [
    "* It helps to check if these components(Tt, St, It)are present or not<br>\n",
    "* Also contribution from each components<br>"
   ]
  },
  {
   "cell_type": "markdown",
   "metadata": {},
   "source": [
    "## 7. EDA"
   ]
  },
  {
   "cell_type": "markdown",
   "metadata": {},
   "source": [
    "* Understand data for peaks and slumps<br>\n",
    "* Understand reasons for peaks and slumps<br>\n",
    "* Analyzing time series means analuzing variations in the time series<br>"
   ]
  },
  {
   "cell_type": "markdown",
   "metadata": {},
   "source": [
    "### Auto Correlation Function (ACF)"
   ]
  },
  {
   "cell_type": "markdown",
   "metadata": {},
   "source": [
    "* Correlation with itself<br>\n",
    "* Correlation with sales with lag1_sales/lag2_sales/lead1_sales/lead2_sales<br>\n",
    "* Which gives insights of correlation of sales with lag or lead or diff sales etc.<br>\n",
    "* Sales = f(MS, lag1, lag2, lead1, lead2, ....)<br>"
   ]
  },
  {
   "cell_type": "markdown",
   "metadata": {},
   "source": [
    "### Partial Auto Correlation Function(PACF)"
   ]
  },
  {
   "cell_type": "markdown",
   "metadata": {},
   "source": [
    "* If Apr_sales = f(Mar_sales, Feb_sales, Jan_sales),<br>\n",
    "* If we want to capture impact of only march sales by removing impact of feb and jan sales"
   ]
  },
  {
   "cell_type": "markdown",
   "metadata": {},
   "source": [
    "### Auto Regression"
   ]
  },
  {
   "cell_type": "markdown",
   "metadata": {},
   "source": [
    "* It is self regression<br>\n",
    "* Yt = f(Yt-1, Yt-2, ...)<br>\n",
    "* Mathematical relationships between Yt and its lags<br>"
   ]
  },
  {
   "cell_type": "markdown",
   "metadata": {},
   "source": [
    "### Stationary Time Series"
   ]
  },
  {
   "cell_type": "markdown",
   "metadata": {},
   "source": [
    "* Over the period of time, the series should have constant mean and constant variance<br>\n",
    "* Sin curve is good example for constant mean and variance<br>"
   ]
  },
  {
   "cell_type": "markdown",
   "metadata": {},
   "source": [
    "<b>How to check for stationary<b>"
   ]
  },
  {
   "cell_type": "markdown",
   "metadata": {},
   "source": [
    "* Looking at the line chart<br>\n",
    "* Hypothesis testing. ADF Augmented Dicky Fuller Test / Unit root test.<br>\n",
    "* H0 : Series is not stationary, H1 : Series is stationary<br>\n",
    "* If p-value<0.05, we can reject null hypothesisand conclude thatseries is stationary<br>"
   ]
  },
  {
   "cell_type": "markdown",
   "metadata": {},
   "source": [
    "<b>Why to check series is stationary or not</b>"
   ]
  },
  {
   "cell_type": "markdown",
   "metadata": {},
   "source": [
    "* Some of the series models like ARMAhaving pre-requisite as stationary<br>"
   ]
  },
  {
   "cell_type": "markdown",
   "metadata": {},
   "source": [
    "<b>How to convert non-stationary series into stationary series</b>"
   ]
  },
  {
   "cell_type": "markdown",
   "metadata": {},
   "source": [
    "* Detrending : Removing trend from data<br>\n",
    "* Deseasonal : Removing seasonal from data<br>\n",
    "* Log() : Apply log transformation<br>\n",
    "* Diff() : Differencing time series<br>"
   ]
  },
  {
   "cell_type": "markdown",
   "metadata": {},
   "source": [
    "## 8. Time Series Modeling"
   ]
  },
  {
   "cell_type": "markdown",
   "metadata": {},
   "source": [
    "### Univariate Time Series Modeling"
   ]
  },
  {
   "cell_type": "markdown",
   "metadata": {},
   "source": [
    "Basic Techniques : <br>\n",
    "* Averages(MA, WMA, CMA) - Moving Average, Weighted Moving Average, Central Moving Average<br>\n",
    "<br>\n",
    "Intermediate Techniques :<br>\n",
    "* Decomposition - Additive/multiplicative<br>\n",
    "* ETS Models(Exponential smoothing models/Holt winter methods) - single/double/triple<br>\n",
    "<br>\n",
    "Advanced Techniques :<br>\n",
    "* ARIMA model - Auto Regressive Integrated Moving Average<br>\n",
    "* AR, MA, ARMA, ARIMA, SARIMA - seasonal ARIMA model etc.<br>"
   ]
  },
  {
   "cell_type": "markdown",
   "metadata": {},
   "source": [
    "### Multivariate Time Series Modeling"
   ]
  },
  {
   "cell_type": "markdown",
   "metadata": {},
   "source": [
    "* Not only depends on past values but also on other variables pastvalues.<br>\n",
    "* ARIMAX : ARIMA with X variables<br>\n",
    "* SARIMAX : SARIMA with X variales<br>\n",
    "* Regression(helpful for panel data) and Machine learning algorithms<br>"
   ]
  },
  {
   "cell_type": "markdown",
   "metadata": {},
   "source": [
    "### Very Advanced Techniques"
   ]
  },
  {
   "cell_type": "markdown",
   "metadata": {},
   "source": [
    "* ARCH/GARCH<br>\n",
    "* Wavelets<br>\n",
    "* Kalmanfilters<br>\n",
    "* VAR<br>\n",
    "<b>Deep Learning Models</b><br>\n",
    "LSTM, RNN<br>"
   ]
  },
  {
   "cell_type": "markdown",
   "metadata": {},
   "source": [
    "## 9. Packages for Time Series Analysis"
   ]
  },
  {
   "cell_type": "markdown",
   "metadata": {},
   "source": [
    "* statsmodels.tsa<br>\n",
    "* prophet(by faceboook)(good for univariate analysis)<br>\n",
    "* stldecompose(helpful for decompose and analysis)<br>"
   ]
  },
  {
   "cell_type": "markdown",
   "metadata": {},
   "source": [
    "## 10. Modeling"
   ]
  },
  {
   "cell_type": "markdown",
   "metadata": {},
   "source": [
    "* Load data<br>\n",
    "  -> pd.read_csv('tractor_sales.csv')<br>\n",
    "* Check data if it is time series data<br>\n",
    "  -> sales_data.info()<br>\n",
    "* Convert variable to time series from object<br>\n",
    "  -> pd.date_range(start='2003-01-01', freq='MS', periods=len(sales_data))\n",
    "* Set time series variable as index<br>\n",
    "  -> sales_data.set_index(date_range_val, inplace=True)<br>\n",
    "* Plot and check if it is stationary<br>\n",
    "* Line chart is preferred for time series data. We can use boxplot also for this.<br>\n",
    "* Check contribution coming from trend, seasonality, irregular component with the help of decomposition<br>\n",
    "  -> decompose = seasonal_decompose(ts, model='multiplicative', two_sided=False, extrapolate_trend=4)\n",
    "  -> decompose.plot()"
   ]
  },
  {
   "cell_type": "markdown",
   "metadata": {},
   "source": [
    "<b>Libraries for Decomposition :</b><br>\n",
    "* statsmodels.decompose<br>\n",
    "* fbprophet.decompose<br>\n",
    "* stldecopose.decompose(Preferred library)<br>"
   ]
  },
  {
   "cell_type": "markdown",
   "metadata": {},
   "source": [
    "<b>Note :</b> \n",
    "* For better model we need atleast 2 years of data<br>\n",
    "* If Irregular component is close to 1 then major contribution by trend and seasonal components.<br>\n",
    "* If Irregular component is not close to 1 then there is major contribution from this as well<br>\n",
    "* Forecasting works well with decomposition if Irregular component(It) value is close to 1.<br>\n",
    "* With the values of trend and seasonal we can predict future values, Irregular value will be error<br>\n",
    "* The case study has explained 96% of data with trend and seasonal component values<br>\n",
    "* If one component looks very strong then Additive will give good results than Multiplicative<br>\n",
    "* In Additive decomposition irregular component is close to 0 and in multiplicative decomposition it is 1<br>"
   ]
  },
  {
   "cell_type": "markdown",
   "metadata": {},
   "source": [
    "### Data Preparation"
   ]
  },
  {
   "cell_type": "markdown",
   "metadata": {},
   "source": [
    "* Missing Values : Impute missing vlaues<br>\n",
    "* Outliers : Handle outlier(mean+3std, mean-3std)<br>\n",
    "* train and test split : Its not random. Recent data is test and past data is train<br>"
   ]
  },
  {
   "cell_type": "markdown",
   "metadata": {},
   "source": [
    "### Exponential Smoothing"
   ]
  },
  {
   "cell_type": "markdown",
   "metadata": {},
   "source": [
    "* Yt = f(Yt-1, et-1), Yt-1 -> past value, et -> past error, Yt = alpha*Yt-1+(1-alpha)*et-1<br>\n",
    "* Single exponential smoothing : If time series doesn't have trend and seasonality; alpha<br>\n",
    "* Double exponential smoothing : If time series have trend or seasonality;alpha, beta<br>\n",
    "* Triple exponential smoothing : If time series have trend and seasonality; alpha, beta, gamma<br>\n",
    "* from statsmodels.tsa.holtwinters import ExponentialSmoothing "
   ]
  },
  {
   "cell_type": "code",
   "execution_count": null,
   "metadata": {},
   "outputs": [],
   "source": []
  }
 ],
 "metadata": {
  "kernelspec": {
   "display_name": "Python 3",
   "language": "python",
   "name": "python3"
  },
  "language_info": {
   "codemirror_mode": {
    "name": "ipython",
    "version": 3
   },
   "file_extension": ".py",
   "mimetype": "text/x-python",
   "name": "python",
   "nbconvert_exporter": "python",
   "pygments_lexer": "ipython3",
   "version": "3.6.5"
  }
 },
 "nbformat": 4,
 "nbformat_minor": 2
}
