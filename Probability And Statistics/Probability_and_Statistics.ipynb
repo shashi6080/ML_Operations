{
 "cells": [
  {
   "cell_type": "markdown",
   "metadata": {},
   "source": [
    "# Probability and Statistics"
   ]
  },
  {
   "cell_type": "markdown",
   "metadata": {},
   "source": [
    "## 1. Population vs Sample"
   ]
  },
  {
   "cell_type": "markdown",
   "metadata": {},
   "source": [
    "<b>Population:</b><br>\n",
    "A population data set contains all members of a specified group (the entire list of possible data values).<br>\n",
    "Example: The population may be \"ALL people living in the US.\"<br>"
   ]
  },
  {
   "cell_type": "markdown",
   "metadata": {},
   "source": [
    "<b>Sample:</b><br>\n",
    "A sample data set contains a part, or a subset, of a population. The size of a sample is always less than the size of the population from which it is taken.<br>\n",
    "Example: The sample may be \"SOME people living in the US.\"<br>"
   ]
  },
  {
   "cell_type": "markdown",
   "metadata": {},
   "source": [
    "## 2. Guassian or Normal Distribution"
   ]
  },
  {
   "cell_type": "markdown",
   "metadata": {},
   "source": [
    "1. Its Probability Density Function looks like a bell shaped curve.<br>\n",
    "2. Normal distribution has its own characteristics.<br>\n",
    "3. It is symmetric around the point x=μ<br>\n",
    "4. Mean, median, mode is same for normal distribution.<br>\n",
    "5. 68% of values are within 1 standard deviation.<br>\n",
    "6. 95% of values are within 2 standard deviation.<br>\n",
    "7. 99.7% of values are within 3 standard deviation.<br>\n",
    "8. The general form of its probability density function helps to know probability of any random variable.(for formula check https://en.wikipedia.org/wiki/Normal_distribution)<br>"
   ]
  },
  {
   "cell_type": "markdown",
   "metadata": {},
   "source": [
    "## 3. Probability Density Function(PDF)"
   ]
  },
  {
   "cell_type": "markdown",
   "metadata": {},
   "source": [
    "1. Probability density function (PDF) is a statistical expression that defines a probability distribution (the likelihood of an outcome) for a discrete random variable (e.g., a stock or ETF) as opposed to a continuous random variable.<br>\n",
    "2. When the PDF is graphically portrayed, the area under the curve will indicate the interval in which the variable will fall.<br>\n",
    "3.  The total area in this interval of the graph equals the probability of a discrete random variable occurring.<br>"
   ]
  },
  {
   "cell_type": "markdown",
   "metadata": {},
   "source": [
    "## 4. Cumulative Distribution Function(CDF)"
   ]
  },
  {
   "cell_type": "markdown",
   "metadata": {},
   "source": [
    "1. The cumulative distribution function gives you the cumulative probability associated with a function. It is a similar concept to a cumulative frequency table. With a table, the frequency is the amount of times a particular number or item happens. The cumulative frequency is the total counts up to a certain number.<br>\n",
    "2. CDF value is between 0 and 1.<br>"
   ]
  },
  {
   "cell_type": "markdown",
   "metadata": {},
   "source": [
    "## 5. Standard Normal Variate"
   ]
  },
  {
   "cell_type": "markdown",
   "metadata": {},
   "source": [
    "1. Standard normal variate z, has mean 0 and std dev of 1. ie. z=N(0,1)"
   ]
  },
  {
   "cell_type": "markdown",
   "metadata": {},
   "source": [
    "## 6. Standardization"
   ]
  },
  {
   "cell_type": "markdown",
   "metadata": {},
   "source": [
    "1. Standardization is the process of putting different variables on the same scale.<br>\n",
    "2. This process allows you to compare scores between different types of variables.<br>\n",
    "3. Typically, to standardize variables, calculate the mean and standard deviation for a variable. Then, for each observed value of the variable, subtract the mean and divide by the standard deviation.<br>\n",
    "4. Standardized variables have a mean of 0 and a standard deviation of 1.<br>\n",
    "5. Standardizing makes it easier to compare scores, even if those scores were measured on different scales.<br>"
   ]
  },
  {
   "cell_type": "markdown",
   "metadata": {},
   "source": [
    "## 7. Kernel Density Estimation"
   ]
  },
  {
   "cell_type": "markdown",
   "metadata": {},
   "source": [
    "1. Kernel density estimation is a non-parametric method of estimating the probability density function (PDF) of a continuous random variable.<br>\n",
    "2. It is non-parametric because it does not assume any underlying distribution for the variable.<br>\n",
    "3. Kernel density estimates are closely related to histograms, but can be endowed with properties such as smoothness or continuity by using a suitable kernel.<br>"
   ]
  },
  {
   "cell_type": "markdown",
   "metadata": {},
   "source": [
    "## 8. Sampling Distribution"
   ]
  },
  {
   "cell_type": "markdown",
   "metadata": {},
   "source": [
    "1. Defining samples from polulation. Calculating means and distribution of which is called sampling distribution of samples mean.<br>"
   ]
  },
  {
   "cell_type": "markdown",
   "metadata": {},
   "source": [
    "## 9. Central Limit Theorem"
   ]
  },
  {
   "cell_type": "markdown",
   "metadata": {},
   "source": [
    "1. The central limit theorem (CLT) states that the distribution of sample means approximates a normal distribution (also known as a “bell curve”), as the sample size becomes larger, assuming that all samples are identical in size, and regardless of the population distribution shape.<br>"
   ]
  },
  {
   "cell_type": "markdown",
   "metadata": {},
   "source": [
    "## 10. Q-Q(Quantile Quantile) Plot"
   ]
  },
  {
   "cell_type": "markdown",
   "metadata": {},
   "source": [
    "1. This is agraphical method of determining whether the distribution is normally distributed.<br>\n",
    "2. Steps :<br>\n",
    "    a) Sort all x and compute percentile values(first percentile to 100th percentile).<br>\n",
    "    b) Create custom normal distribution, sort all values and compute percentiles.<br>\n",
    "    c) Plot QQ plot using custom normal distibuted into y-axis and actual distribution into y-axis.<br>\n",
    "3. QQ plot helps to determine whether our distribution is normal.<br>\n",
    "4. QQ plot also helps to determine other distributions provided the custom distribution should also be from same distribution.<br>\n",
    "5. The values of custom distributions should be high to get accurate graph.<br>"
   ]
  },
  {
   "cell_type": "markdown",
   "metadata": {},
   "source": [
    "## 11. Chebishev's Inequality"
   ]
  },
  {
   "cell_type": "markdown",
   "metadata": {},
   "source": [
    "1. If we know mean and standard deviation of any distribution then, P(|x-μ|>=kσ) <= 1/k².<br>\n",
    "2. This helps us to know the probability of random variable in certain std dev.<br>\n",
    "3. One more custom formula, P(μ-kσ < X < μ+kσ) > 1 - 1/k². Which means probability of k times std dev around mean is grater than 1-1/k²<br>"
   ]
  },
  {
   "cell_type": "markdown",
   "metadata": {},
   "source": [
    "## 12. Uniform Distribution"
   ]
  },
  {
   "cell_type": "markdown",
   "metadata": {},
   "source": [
    "1. There are two types of uniform distributions, discrete uniform distribution and continuous uniform distribution.<br>\n",
    "2. Probability that a random variable takes any value is equi-probable.<br>\n",
    "3. Mean, median, moce, std dev, probability mass function, CDF can be calculated with straightforward formulas.(refer wikipedia)"
   ]
  },
  {
   "cell_type": "markdown",
   "metadata": {},
   "source": [
    "## 13. Bernoulli Distribution"
   ]
  },
  {
   "cell_type": "markdown",
   "metadata": {},
   "source": [
    "1. There are only 2 outcomes.<br>\n",
    "2. Probability of getting any outcome is 0.5(50%).<br>\n",
    "3. The Bernoulli distribution is the discrete probability distribution of a random variable which takes a binary, boolean output: 1 with probability p, and 0 with probability (1-p).<br>"
   ]
  },
  {
   "cell_type": "markdown",
   "metadata": {},
   "source": [
    "## 14. Binomial Distribution"
   ]
  },
  {
   "cell_type": "markdown",
   "metadata": {},
   "source": [
    "1.  This distribution describes the behavior the outputs of n random experiments, each having a Bernoulli distribution with probability p.<br>"
   ]
  },
  {
   "cell_type": "markdown",
   "metadata": {},
   "source": [
    "## 15. Log Normal Distribution"
   ]
  },
  {
   "cell_type": "markdown",
   "metadata": {},
   "source": [
    "1. If x is said to be log normal distributed if distribution of log(x) is normally distributed.<br>"
   ]
  },
  {
   "cell_type": "markdown",
   "metadata": {},
   "source": [
    "## 16. Box cox Transform"
   ]
  },
  {
   "cell_type": "markdown",
   "metadata": {},
   "source": [
    "1. Conversion of Pareto distribution to normal distribution, is done by box cox transform.<br>"
   ]
  },
  {
   "cell_type": "code",
   "execution_count": null,
   "metadata": {},
   "outputs": [],
   "source": []
  },
  {
   "cell_type": "code",
   "execution_count": null,
   "metadata": {},
   "outputs": [],
   "source": []
  },
  {
   "cell_type": "code",
   "execution_count": null,
   "metadata": {},
   "outputs": [],
   "source": []
  },
  {
   "cell_type": "code",
   "execution_count": null,
   "metadata": {},
   "outputs": [],
   "source": []
  },
  {
   "cell_type": "code",
   "execution_count": null,
   "metadata": {},
   "outputs": [],
   "source": []
  },
  {
   "cell_type": "code",
   "execution_count": null,
   "metadata": {},
   "outputs": [],
   "source": []
  },
  {
   "cell_type": "code",
   "execution_count": null,
   "metadata": {},
   "outputs": [],
   "source": []
  },
  {
   "cell_type": "markdown",
   "metadata": {},
   "source": [
    "<b>Reference links:</b><br>\n",
    "    1. Normal Distribution :\n",
    "       https://www.mathsisfun.com/data/standard-normal-distribution.html\n",
    "    2. CDF :\n",
    "       https://www.statisticshowto.com/cumulative-distribution-function/\n",
    "    3. Central Limit Theorem :\n",
    "       https://en.wikipedia.org/wiki/Central_limit_theorem\n",
    "    4. QQ Plot :\n",
    "       https://towardsdatascience.com/what-in-the-world-are-qq-plots-20d0e41dece1\n",
    "    5. Chebishev's Inequality :\n",
    "       https://www.thoughtco.com/chebyshevs-inequality-3126547\n",
    "    6. Bernoulli vs Binomial Distribution :\n",
    "       https://towardsdatascience.com/understanding-bernoulli-and-binomial-distributions-a1eef4e0da8f"
   ]
  },
  {
   "cell_type": "code",
   "execution_count": null,
   "metadata": {},
   "outputs": [],
   "source": []
  }
 ],
 "metadata": {
  "kernelspec": {
   "display_name": "Python 3",
   "language": "python",
   "name": "python3"
  },
  "language_info": {
   "codemirror_mode": {
    "name": "ipython",
    "version": 3
   },
   "file_extension": ".py",
   "mimetype": "text/x-python",
   "name": "python",
   "nbconvert_exporter": "python",
   "pygments_lexer": "ipython3",
   "version": "3.6.5"
  }
 },
 "nbformat": 4,
 "nbformat_minor": 2
}
