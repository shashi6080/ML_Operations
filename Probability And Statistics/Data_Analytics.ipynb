{
 "cells": [
  {
   "cell_type": "markdown",
   "metadata": {},
   "source": [
    "# Data Analytics"
   ]
  },
  {
   "cell_type": "markdown",
   "metadata": {},
   "source": [
    "## 1. Stages of Analytics"
   ]
  },
  {
   "cell_type": "markdown",
   "metadata": {},
   "source": [
    "### 1.1 Descriptive Analytics"
   ]
  },
  {
   "cell_type": "markdown",
   "metadata": {},
   "source": [
    "* Describe data using population<br>\n",
    "* Describe population using sample data<br>\n",
    "* Helps to identify business problem<br>\n",
    "* It is general analysis<br>"
   ]
  },
  {
   "cell_type": "markdown",
   "metadata": {},
   "source": [
    "### 1.2 Diagnostic Analytics"
   ]
  },
  {
   "cell_type": "markdown",
   "metadata": {},
   "source": [
    "* Helps in identifying source of the problem<br>\n",
    "* It is objective analysis<br>"
   ]
  },
  {
   "cell_type": "markdown",
   "metadata": {},
   "source": [
    "### 1.3 Predictive Analytics"
   ]
  },
  {
   "cell_type": "markdown",
   "metadata": {},
   "source": [
    "* Identify the possible solution for a given problem<br>\n",
    "* Solution might be one or many<br>"
   ]
  },
  {
   "cell_type": "markdown",
   "metadata": {},
   "source": [
    "### 1.4 Prescriptive Analytics"
   ]
  },
  {
   "cell_type": "markdown",
   "metadata": {},
   "source": [
    "* Identify the best/optimal solution<br>"
   ]
  },
  {
   "cell_type": "markdown",
   "metadata": {},
   "source": [
    "### 1.5 Cognitive Analytics<br>"
   ]
  },
  {
   "cell_type": "markdown",
   "metadata": {},
   "source": [
    "* Generalizing the solution<br>\n",
    "* Making solution implementable<br>"
   ]
  },
  {
   "cell_type": "markdown",
   "metadata": {},
   "source": [
    "## 2. Exploratory Data Analysis(Descriptive and Diagnostics)"
   ]
  },
  {
   "cell_type": "markdown",
   "metadata": {},
   "source": [
    "### 2.1 Descriptive Statistics"
   ]
  },
  {
   "cell_type": "markdown",
   "metadata": {},
   "source": [
    "#### 2.1.1 Measure of Central Tendency"
   ]
  },
  {
   "cell_type": "markdown",
   "metadata": {},
   "source": [
    "<b>Mean/Avarage :</b> It is average of all values<br>\n",
    "<b>Median :</b> It is middle value / 50th percentile<br>\n",
    "<b>Mode :</b> It is most frequenct value<br>"
   ]
  },
  {
   "cell_type": "markdown",
   "metadata": {},
   "source": [
    "#### 2.1.2 Measure of Spread"
   ]
  },
  {
   "cell_type": "markdown",
   "metadata": {},
   "source": [
    "* If the data is deviated more from the mean then, it is more helpful for analysis.<br>\n",
    "* If the data has zero variance, std_dev then all values are same. And there is no deviation of data.<br>\n",
    "* Variation in data is important for data analytics<br>"
   ]
  },
  {
   "cell_type": "markdown",
   "metadata": {},
   "source": [
    "<b>* Variance</b><br>\n",
    "    -> Average of mean squared deviation(MSD)<br>\n",
    "<b>* Standard Deviation</b><br>\n",
    "    -> Square root of Variance<br>\n",
    "    -> Square root of average mean of squared deviation<br>\n",
    "<b>* Coeffient of Variation</b><br>\n",
    "    -> Std_dev/Mean<br>\n",
    "    -> Its independent of scale<br>\n",
    "    -> Best way to check variation/deviation for all scales<br>\n",
    "<b>* Range</b><br>\n",
    "    -> Max-Min<br>\n",
    "<b>* Mean Absolute Deviation(MAD)</b><br>\n",
    "<b>* Mean Squared Deviation(MSD)</b><br>"
   ]
  },
  {
   "cell_type": "markdown",
   "metadata": {},
   "source": [
    "#### 2.1.3 Distribution"
   ]
  },
  {
   "cell_type": "markdown",
   "metadata": {},
   "source": [
    "* Percentile distribution<br>"
   ]
  },
  {
   "cell_type": "markdown",
   "metadata": {},
   "source": [
    "### 2.2 Univariate Analysis"
   ]
  },
  {
   "cell_type": "markdown",
   "metadata": {},
   "source": [
    "* Analyzing one variable at a time<br>"
   ]
  },
  {
   "cell_type": "markdown",
   "metadata": {},
   "source": [
    "<b>Discrete/Categorical Variables :</b><br>\n",
    "    Nominal : If there is no order in the discrete data.<br>\n",
    "    Ordinal : If there is order in the discrete data<br>\n",
    "* These can be numerical or text data<br>"
   ]
  },
  {
   "cell_type": "markdown",
   "metadata": {},
   "source": [
    "<b>Contibuous Variables :</b><br>\n",
    "* These are numerical in nature<br>\n",
    "* These are continuous in nature<br>"
   ]
  },
  {
   "cell_type": "markdown",
   "metadata": {},
   "source": [
    "<b>Univariate analysis for discrete variable</b><br>\n",
    "Location : Bangalore, Hubli, Mangalore, Mysore<br>\n",
    "* Frequency count<br>\n",
    "* Proportion<br>\n",
    "* Mode<br>\n",
    "* Pareto Analysis : Sort data(descending) and which of these contribute to 80% of data<br>\n",
    "* Data distribution(percentiles)<br>\n",
    "<br><b>Graphs,</b><br>\n",
    "* Bar chart -> for frequency<br>\n",
    "* Pie chart -> for proportion<br>\n",
    "* Pareto chart -> Cumulative distribution<br>"
   ]
  },
  {
   "cell_type": "markdown",
   "metadata": {},
   "source": [
    "<b>Univariate analysis of Continuous Variable<b><br>"
   ]
  },
  {
   "cell_type": "markdown",
   "metadata": {},
   "source": [
    "* Middle value : Mean, Median, Mode<br>\n",
    "* Measure of spread : Mean Absolute Deviation(MAD), Variance, Standard Deviation, Coefficient of Variance, Range, Inter Quartile Range(IQR)<br>\n",
    "* Measure of peakness : Kurtosis<br>\n",
    "* Measure of symmetry : skewness<br>\n",
    "* Standard Error<br>\n",
    "* Distribution of data(percentiles)<br>\n",
    "* Min and Max<br>"
   ]
  },
  {
   "cell_type": "markdown",
   "metadata": {},
   "source": [
    "<b>Graphs,</b><br>\n",
    "* Histogram<br>\n",
    "* Boxplot<br>\n",
    "* Line chart for time series<br>"
   ]
  },
  {
   "cell_type": "markdown",
   "metadata": {},
   "source": [
    "### 2.3 Bivariate Analysis"
   ]
  },
  {
   "cell_type": "markdown",
   "metadata": {},
   "source": [
    "* Analyzing two variables at a time<br>"
   ]
  },
  {
   "cell_type": "markdown",
   "metadata": {},
   "source": [
    "1. Categorical - Categorical : Gender and Location<br>\n",
    "2. Categorical - Numerical : Location and Income<br>\n",
    "3. Numerical - Numerical : Age and Income<br>"
   ]
  },
  {
   "cell_type": "markdown",
   "metadata": {},
   "source": [
    "<b>Categorical - Categorical</b><br>\n",
    "* To check relationship exists or not - Cross Tabulations/Summerization with Count, Proportion, Column Percentages, Row Percentages<br>\n",
    "* To check how strong is the relationship(quantifying) - Chisquare Test<br>\n",
    "* Graphical visualization - Stacked chart<br>\n",
    "* Chisquare is a metric which tells how one variable is influencing other variable if both are categorical variables<br>\n",
    "* If Chisquare value is vary high - One variable is influencing other variable<br>\n",
    "* Chisquare formula : Sigma((O-E)/E), O->observed, E->expected<br>"
   ]
  },
  {
   "cell_type": "markdown",
   "metadata": {},
   "source": [
    "<b>Categorical - Numerical</b><br>\n",
    "* Aggregation / Group by function can be used<br>\n",
    "* We can caluculate mode, var, std, cv, range, min, max, percentiles on aggregated data<br>\n",
    "* Ex :- If Bangalore location has average income of 80k, and others locations are very different. Then we can infer there is relationship between location and income<br>\n",
    "* To check how strong is the relationship - F-Value is used<br>\n",
    "* F-value calculation : Std of grouped values average / total std (std of means of each locations / std of all income values)<br>\n",
    "* If all grouped values are very different then F-value is high(Ex : average income of bangalore/hubli/mysore/mangalore people are all different)<br>\n",
    "* If all grouped values are same then F-value is low<br>\n",
    "* If F-value is high then there is strong relationship<br>\n",
    "* GRAPH : Panel chart - histogram/box plot of each location in one chart<br>"
   ]
  },
  {
   "cell_type": "markdown",
   "metadata": {},
   "source": [
    "<b>Numerical - Numerical</b>"
   ]
  },
  {
   "cell_type": "markdown",
   "metadata": {},
   "source": [
    "* We can also group numerical variables and treat them as categorical variables<br>\n",
    "* If one variable is increasing and other variable also increasing, then both have positive linear relationship<br>\n",
    "* If one variable is increasing and other variable also decreasing, then both have negative linear relationship<br>\n",
    "* We can find it by sorting them<br>\n",
    "* We can check using scatter plot with both the variables<br>\n",
    "* Correlation metric helps for only linear relationship exists between two variables<br>\n",
    "* Value of correlation metric is between -1 and +1, if 0-1 positive relationship and if -1 to 0 negative relationship<br>\n",
    "* If relationship between two variables is increasing and decreasing it is non-linear realtionship<br>\n",
    "* Closer to 1 strong linear positive relationship<br>\n",
    "* Closer to -1 strong linear negative relationship<br>\n",
    "* Closer to 0 no linear realtionship<br>\n",
    "* Identifying key drivers correlation is very helpful<br>"
   ]
  },
  {
   "cell_type": "markdown",
   "metadata": {},
   "source": [
    "### 2.4 Inferential Statistics"
   ]
  },
  {
   "cell_type": "markdown",
   "metadata": {},
   "source": [
    "* Analyzing sample and infer the population based onsample results<br>"
   ]
  },
  {
   "cell_type": "markdown",
   "metadata": {},
   "source": [
    "<b>Why do we need to take sample?</b><br>\n",
    "* We dont have full data<br>\n",
    "* We have full data, but we want to analyze quickly and with limited computing resources<br>\n",
    "* Doing some experimentaion, ex:- Beta testing<br>\n",
    "* Identifying impact<br>"
   ]
  },
  {
   "cell_type": "markdown",
   "metadata": {},
   "source": [
    "<b>What is methodology we use for getting sample?</b>\n",
    "* Sample is subset of population, which represents population<br>\n",
    "* Sample is representative of population only if right proportion of data is present<br>\n",
    "* Sample characteristics should be almost same as population characteristics<br>"
   ]
  },
  {
   "cell_type": "markdown",
   "metadata": {},
   "source": [
    "<b>Sampling Methodologies :</b><br>\n",
    "* Simple Random Sample(SRS)(Boot strap sample): With replacement, without replacement<br>\n",
    "* Stratified Sample : Entire populatioj is divided into strata/groups and SRS from each strata/groups<br>\n",
    "* Cluster Sample : Dividing populatioj into clusters and SRS from each cluster. For survey people prefer to use this sampling<br>"
   ]
  },
  {
   "cell_type": "markdown",
   "metadata": {},
   "source": [
    "<b>Estimations :</b>"
   ]
  },
  {
   "cell_type": "markdown",
   "metadata": {},
   "source": [
    "* Point estimation : Ex :- 250, for this there is sampling error.<br>\n",
    "* Interval estimation : Ex :- 200-300, to overcome from sampling error.<br>\n",
    "* Confidence Interval : Confidence level for given estimation range. Estimate population with range<br>"
   ]
  },
  {
   "cell_type": "markdown",
   "metadata": {},
   "source": [
    "### 2.5 Central Limit Theorem"
   ]
  },
  {
   "cell_type": "markdown",
   "metadata": {},
   "source": [
    "* Population distribution is same as sample distribution<br>\n",
    "* Sample is representative of population<br>\n",
    "* With mean and std dev of sample we can estimate mean and std dev of population<br>\n",
    "* Std dev is almost similar both in sample and population. But mean mean cannot be same. Hence we give range estimation<br>\n",
    "* Central limit theorem helps in coming up with range<br>\n",
    "* Theorem says samples averages/mean follow normal distribution<br>\n",
    "* Standard error : Standard deviation of samples distribution<br>\n",
    "* Standard error = std dev of population / squareroot(No. of observations in the sample)<br>\n",
    "* Standard deviation of population = std dev of sample / sq_rt(no. of observations in the sample)<br>\n",
    "* Standard error is directly proportional to std dev of data<br>\n",
    "* Standarr error id inversely proportional to sample size<br> \n",
    "* Increase sample size to reduce standard error<br>"
   ]
  },
  {
   "cell_type": "markdown",
   "metadata": {},
   "source": [
    "### 2.6 Hypothesis Testing"
   ]
  },
  {
   "cell_type": "markdown",
   "metadata": {},
   "source": [
    "H0 : Null hypothesis - If there is effect<br>\n",
    "H1 : Alternate Hypothesis - If there is no effect<br>\n",
    "* Business goal is to prove alternate hypothesis<br>"
   ]
  },
  {
   "cell_type": "markdown",
   "metadata": {},
   "source": [
    "<b>P Value :</b><br>\n",
    "* The probablity that we cannot reject null hypothesis<br>\n",
    "* Very low the P-value that much confidence to reject null hypothesis<br>\n",
    "* If P-value is 0.1(10%), at max at 90% confidence interval we can reject null hypothesis<br>\n",
    "* If P-value is 0.05(5%), at max at 95% confidence interval we can reject null hypothesis<br>\n",
    "* Python libraries provide direct P-value<br>"
   ]
  },
  {
   "cell_type": "markdown",
   "metadata": {},
   "source": [
    "<b>Hypothesis testing business scenarios</b><br>\n",
    "1. Comparing sample averages with hypothetical value - t-test / z-test<br>\n",
    "2. Comparing two sample averages<br>\n",
    "2a. Independent samples - paired t-test<br>\n",
    "2b. Dependent samples - independent sample t-test<br>\n",
    "3. Comparing multiple samples - Having relationship between one categorical and one numerical by using samples - f-test/ANOVA<br>\n",
    "4. Having relationship between two variables using samples - Correlation test<br>\n",
    "5. having relationship between two categorical variables using samples - Chisquare test<br>"
   ]
  }
 ],
 "metadata": {
  "kernelspec": {
   "display_name": "Python 3",
   "language": "python",
   "name": "python3"
  },
  "language_info": {
   "codemirror_mode": {
    "name": "ipython",
    "version": 3
   },
   "file_extension": ".py",
   "mimetype": "text/x-python",
   "name": "python",
   "nbconvert_exporter": "python",
   "pygments_lexer": "ipython3",
   "version": "3.6.5"
  }
 },
 "nbformat": 4,
 "nbformat_minor": 2
}
